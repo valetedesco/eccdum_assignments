{
  "cells": [
    {
      "cell_type": "markdown",
      "metadata": {
        "id": "Y34H60SmMwYK"
      },
      "source": [
        "[![Open In Colab](https://colab.research.google.com/assets/colab-badge.svg)](https://colab.research.google.com/github/ECCDUM/eccdum_assignments/blob/main/Cleaning-a-dataset.ipynb)"
      ]
    },
    {
      "cell_type": "markdown",
      "metadata": {
        "id": "t71tZhrHMwYL"
      },
      "source": [
        "# Objective\n",
        "\n",
        "The objective of this notebook is get hands-on experience on cleaning a \"dirty\" dataset.\n",
        "Often, datasets are created from \"free-text\" fields. In free-text fields, data validation is not enforced and as a result, many conventions co-exist within the same column of data.\n",
        "Dirty data can also ocurr when collection information from different sources. If these sources use different conventions to represent such data, additional efforts are required to homogenize it at a later stage."
      ]
    },
    {
      "cell_type": "markdown",
      "metadata": {
        "id": "ETL6ZFzBMwYM"
      },
      "source": [
        "## Setup"
      ]
    },
    {
      "cell_type": "code",
      "execution_count": 14,
      "metadata": {
        "vscode": {
          "languageId": "plaintext"
        },
        "id": "HcjCiesjMwYM"
      },
      "outputs": [],
      "source": [
        "!pip install -q eccd_datasets"
      ]
    },
    {
      "cell_type": "code",
      "execution_count": 15,
      "metadata": {
        "vscode": {
          "languageId": "plaintext"
        },
        "id": "Eq_IwCphMwYN"
      },
      "outputs": [],
      "source": [
        "import pandas as pd\n",
        "import numpy as np\n",
        "from eccd_datasets import load_lingerie"
      ]
    },
    {
      "cell_type": "code",
      "execution_count": 16,
      "metadata": {
        "vscode": {
          "languageId": "plaintext"
        },
        "id": "DwdTEAsxMwYN"
      },
      "outputs": [],
      "source": [
        "datasets = load_lingerie()"
      ]
    },
    {
      "cell_type": "code",
      "execution_count": 17,
      "metadata": {
        "vscode": {
          "languageId": "plaintext"
        },
        "id": "pS4f-7BVMwYN",
        "outputId": "a07706ec-a5cb-44ea-a995-c73e1e2f17fe",
        "colab": {
          "base_uri": "https://localhost:8080/",
          "height": 1000
        }
      },
      "outputs": [
        {
          "output_type": "execute_result",
          "data": {
            "text/plain": [
              "                           product_name        mrp      price  \\\n",
              "0      Aerie Everyday Loves Lace Cheeky  12.50 USD  12.50 USD   \n",
              "1      Aerie Everyday Loves Lace Cheeky  12.50 USD  12.50 USD   \n",
              "2      Aerie Everyday Loves Lace Cheeky  12.50 USD  12.50 USD   \n",
              "3      Aerie Everyday Loves Lace Cheeky  12.50 USD  12.50 USD   \n",
              "4      Aerie Everyday Loves Lace Cheeky  12.50 USD  12.50 USD   \n",
              "...                                 ...        ...        ...   \n",
              "28323  Aerie Hi-Neck Lace Trim Bralette  34.95 USD  20.97 USD   \n",
              "28324  Aerie Hi-Neck Lace Trim Bralette  34.95 USD  20.97 USD   \n",
              "28325  Aerie Hi-Neck Lace Trim Bralette  34.95 USD  20.97 USD   \n",
              "28326  Aerie Hi-Neck Lace Trim Bralette  34.95 USD  20.97 USD   \n",
              "28327  Aerie Hi-Neck Lace Trim Bralette  34.95 USD  20.97 USD   \n",
              "\n",
              "                                                 pdp_url brand_name  \\\n",
              "0      https://www.ae.com/aerie-everyday-loves-lace-c...      AERIE   \n",
              "1      https://www.ae.com/aerie-everyday-loves-lace-c...      AERIE   \n",
              "2      https://www.ae.com/aerie-everyday-loves-lace-c...      AERIE   \n",
              "3      https://www.ae.com/aerie-everyday-loves-lace-c...      AERIE   \n",
              "4      https://www.ae.com/aerie-everyday-loves-lace-c...      AERIE   \n",
              "...                                                  ...        ...   \n",
              "28323  https://www.ae.com/aerie-hi-neck-lace-trim-bra...      AERIE   \n",
              "28324  https://www.ae.com/aerie-hi-neck-lace-trim-bra...      AERIE   \n",
              "28325  https://www.ae.com/aerie-hi-neck-lace-trim-bra...      AERIE   \n",
              "28326  https://www.ae.com/aerie-hi-neck-lace-trim-bra...      AERIE   \n",
              "28327  https://www.ae.com/aerie-hi-neck-lace-trim-bra...      AERIE   \n",
              "\n",
              "      product_category retailer  \\\n",
              "0             Cheekies    Ae US   \n",
              "1             Cheekies    Ae US   \n",
              "2             Cheekies    Ae US   \n",
              "3             Cheekies    Ae US   \n",
              "4             Cheekies    Ae US   \n",
              "...                ...      ...   \n",
              "28323        Bralettes    Ae US   \n",
              "28324        Bralettes    Ae US   \n",
              "28325        Bralettes    Ae US   \n",
              "28326        Bralettes    Ae US   \n",
              "28327        Bralettes    Ae US   \n",
              "\n",
              "                                             description  rating  \\\n",
              "0      Introducing Everyday Loves™: Made with love. E...     5.0   \n",
              "1      Introducing Everyday Loves™: Made with love. E...     5.0   \n",
              "2      Introducing Everyday Loves™: Made with love. E...     5.0   \n",
              "3      Introducing Everyday Loves™: Made with love. E...     5.0   \n",
              "4      Introducing Everyday Loves™: Made with love. E...     5.0   \n",
              "...                                                  ...     ...   \n",
              "28323  ¡Amor! New bralettes. Get bralette happy. This...     NaN   \n",
              "28324  ¡Amor! New bralettes. Get bralette happy. This...     NaN   \n",
              "28325  ¡Amor! New bralettes. Get bralette happy. This...     NaN   \n",
              "28326  ¡Amor! New bralettes. Get bralette happy. This...     NaN   \n",
              "28327  ¡Amor! New bralettes. Get bralette happy. This...     NaN   \n",
              "\n",
              "       review_count                                   style_attributes  \\\n",
              "0               8.0  [\"Soft lace with the right amount of stretch\",...   \n",
              "1               8.0  [\"Soft lace with the right amount of stretch\",...   \n",
              "2               8.0  [\"Soft lace with the right amount of stretch\",...   \n",
              "3               8.0  [\"Soft lace with the right amount of stretch\",...   \n",
              "4               8.0  [\"Soft lace with the right amount of stretch\",...   \n",
              "...             ...                                                ...   \n",
              "28323           NaN  [\"Shine fabric + guipure lace trim\", \"Crop sil...   \n",
              "28324           NaN  [\"Shine fabric + guipure lace trim\", \"Crop sil...   \n",
              "28325           NaN  [\"Shine fabric + guipure lace trim\", \"Crop sil...   \n",
              "28326           NaN  [\"Shine fabric + guipure lace trim\", \"Crop sil...   \n",
              "28327           NaN  [\"Shine fabric + guipure lace trim\", \"Crop sil...   \n",
              "\n",
              "                              total_sizes                      available_size  \\\n",
              "0      [\"XS\", \"S\", \"M\", \"L\", \"XL\", \"XXL\"]  [\"XS\", \"S\", \"M\", \"L\", \"XL\", \"XXL\"]   \n",
              "1      [\"XS\", \"S\", \"M\", \"L\", \"XL\", \"XXL\"]  [\"XS\", \"S\", \"M\", \"L\", \"XL\", \"XXL\"]   \n",
              "2      [\"XS\", \"S\", \"M\", \"L\", \"XL\", \"XXL\"]  [\"XS\", \"S\", \"M\", \"L\", \"XL\", \"XXL\"]   \n",
              "3      [\"XS\", \"S\", \"M\", \"L\", \"XL\", \"XXL\"]  [\"XS\", \"S\", \"M\", \"L\", \"XL\", \"XXL\"]   \n",
              "4      [\"XS\", \"S\", \"M\", \"L\", \"XL\", \"XXL\"]  [\"XS\", \"S\", \"M\", \"L\", \"XL\", \"XXL\"]   \n",
              "...                                   ...                                 ...   \n",
              "28323         [\"XS\", \"S\", \"M\", \"L\", \"XL\"]               [\"XS\", \"S\", \"M\", \"L\"]   \n",
              "28324         [\"XS\", \"S\", \"M\", \"L\", \"XL\"]                    [\"XS\", \"S\", \"M\"]   \n",
              "28325         [\"XS\", \"S\", \"M\", \"L\", \"XL\"]                    [\"XS\", \"S\", \"M\"]   \n",
              "28326         [\"XS\", \"S\", \"M\", \"L\", \"XL\"]         [\"XS\", \"S\", \"M\", \"L\", \"XL\"]   \n",
              "28327         [\"XS\", \"S\", \"M\", \"L\", \"XL\"]                    [\"XS\", \"S\", \"M\"]   \n",
              "\n",
              "               color  \n",
              "0       Rugged Green  \n",
              "1       Natural Nude  \n",
              "2         True Black  \n",
              "3              White  \n",
              "4         Royal Navy  \n",
              "...              ...  \n",
              "28323  Deep Burgundy  \n",
              "28324   Fresh Bright  \n",
              "28325      Slab Gray  \n",
              "28326   Softest Jade  \n",
              "28327     True Black  \n",
              "\n",
              "[28328 rows x 14 columns]"
            ],
            "text/html": [
              "\n",
              "  <div id=\"df-ae35c75f-5a26-4618-84a2-a9908ed4c5fe\" class=\"colab-df-container\">\n",
              "    <div>\n",
              "<style scoped>\n",
              "    .dataframe tbody tr th:only-of-type {\n",
              "        vertical-align: middle;\n",
              "    }\n",
              "\n",
              "    .dataframe tbody tr th {\n",
              "        vertical-align: top;\n",
              "    }\n",
              "\n",
              "    .dataframe thead th {\n",
              "        text-align: right;\n",
              "    }\n",
              "</style>\n",
              "<table border=\"1\" class=\"dataframe\">\n",
              "  <thead>\n",
              "    <tr style=\"text-align: right;\">\n",
              "      <th></th>\n",
              "      <th>product_name</th>\n",
              "      <th>mrp</th>\n",
              "      <th>price</th>\n",
              "      <th>pdp_url</th>\n",
              "      <th>brand_name</th>\n",
              "      <th>product_category</th>\n",
              "      <th>retailer</th>\n",
              "      <th>description</th>\n",
              "      <th>rating</th>\n",
              "      <th>review_count</th>\n",
              "      <th>style_attributes</th>\n",
              "      <th>total_sizes</th>\n",
              "      <th>available_size</th>\n",
              "      <th>color</th>\n",
              "    </tr>\n",
              "  </thead>\n",
              "  <tbody>\n",
              "    <tr>\n",
              "      <th>0</th>\n",
              "      <td>Aerie Everyday Loves Lace Cheeky</td>\n",
              "      <td>12.50 USD</td>\n",
              "      <td>12.50 USD</td>\n",
              "      <td>https://www.ae.com/aerie-everyday-loves-lace-c...</td>\n",
              "      <td>AERIE</td>\n",
              "      <td>Cheekies</td>\n",
              "      <td>Ae US</td>\n",
              "      <td>Introducing Everyday Loves™: Made with love. E...</td>\n",
              "      <td>5.0</td>\n",
              "      <td>8.0</td>\n",
              "      <td>[\"Soft lace with the right amount of stretch\",...</td>\n",
              "      <td>[\"XS\", \"S\", \"M\", \"L\", \"XL\", \"XXL\"]</td>\n",
              "      <td>[\"XS\", \"S\", \"M\", \"L\", \"XL\", \"XXL\"]</td>\n",
              "      <td>Rugged Green</td>\n",
              "    </tr>\n",
              "    <tr>\n",
              "      <th>1</th>\n",
              "      <td>Aerie Everyday Loves Lace Cheeky</td>\n",
              "      <td>12.50 USD</td>\n",
              "      <td>12.50 USD</td>\n",
              "      <td>https://www.ae.com/aerie-everyday-loves-lace-c...</td>\n",
              "      <td>AERIE</td>\n",
              "      <td>Cheekies</td>\n",
              "      <td>Ae US</td>\n",
              "      <td>Introducing Everyday Loves™: Made with love. E...</td>\n",
              "      <td>5.0</td>\n",
              "      <td>8.0</td>\n",
              "      <td>[\"Soft lace with the right amount of stretch\",...</td>\n",
              "      <td>[\"XS\", \"S\", \"M\", \"L\", \"XL\", \"XXL\"]</td>\n",
              "      <td>[\"XS\", \"S\", \"M\", \"L\", \"XL\", \"XXL\"]</td>\n",
              "      <td>Natural Nude</td>\n",
              "    </tr>\n",
              "    <tr>\n",
              "      <th>2</th>\n",
              "      <td>Aerie Everyday Loves Lace Cheeky</td>\n",
              "      <td>12.50 USD</td>\n",
              "      <td>12.50 USD</td>\n",
              "      <td>https://www.ae.com/aerie-everyday-loves-lace-c...</td>\n",
              "      <td>AERIE</td>\n",
              "      <td>Cheekies</td>\n",
              "      <td>Ae US</td>\n",
              "      <td>Introducing Everyday Loves™: Made with love. E...</td>\n",
              "      <td>5.0</td>\n",
              "      <td>8.0</td>\n",
              "      <td>[\"Soft lace with the right amount of stretch\",...</td>\n",
              "      <td>[\"XS\", \"S\", \"M\", \"L\", \"XL\", \"XXL\"]</td>\n",
              "      <td>[\"XS\", \"S\", \"M\", \"L\", \"XL\", \"XXL\"]</td>\n",
              "      <td>True Black</td>\n",
              "    </tr>\n",
              "    <tr>\n",
              "      <th>3</th>\n",
              "      <td>Aerie Everyday Loves Lace Cheeky</td>\n",
              "      <td>12.50 USD</td>\n",
              "      <td>12.50 USD</td>\n",
              "      <td>https://www.ae.com/aerie-everyday-loves-lace-c...</td>\n",
              "      <td>AERIE</td>\n",
              "      <td>Cheekies</td>\n",
              "      <td>Ae US</td>\n",
              "      <td>Introducing Everyday Loves™: Made with love. E...</td>\n",
              "      <td>5.0</td>\n",
              "      <td>8.0</td>\n",
              "      <td>[\"Soft lace with the right amount of stretch\",...</td>\n",
              "      <td>[\"XS\", \"S\", \"M\", \"L\", \"XL\", \"XXL\"]</td>\n",
              "      <td>[\"XS\", \"S\", \"M\", \"L\", \"XL\", \"XXL\"]</td>\n",
              "      <td>White</td>\n",
              "    </tr>\n",
              "    <tr>\n",
              "      <th>4</th>\n",
              "      <td>Aerie Everyday Loves Lace Cheeky</td>\n",
              "      <td>12.50 USD</td>\n",
              "      <td>12.50 USD</td>\n",
              "      <td>https://www.ae.com/aerie-everyday-loves-lace-c...</td>\n",
              "      <td>AERIE</td>\n",
              "      <td>Cheekies</td>\n",
              "      <td>Ae US</td>\n",
              "      <td>Introducing Everyday Loves™: Made with love. E...</td>\n",
              "      <td>5.0</td>\n",
              "      <td>8.0</td>\n",
              "      <td>[\"Soft lace with the right amount of stretch\",...</td>\n",
              "      <td>[\"XS\", \"S\", \"M\", \"L\", \"XL\", \"XXL\"]</td>\n",
              "      <td>[\"XS\", \"S\", \"M\", \"L\", \"XL\", \"XXL\"]</td>\n",
              "      <td>Royal Navy</td>\n",
              "    </tr>\n",
              "    <tr>\n",
              "      <th>...</th>\n",
              "      <td>...</td>\n",
              "      <td>...</td>\n",
              "      <td>...</td>\n",
              "      <td>...</td>\n",
              "      <td>...</td>\n",
              "      <td>...</td>\n",
              "      <td>...</td>\n",
              "      <td>...</td>\n",
              "      <td>...</td>\n",
              "      <td>...</td>\n",
              "      <td>...</td>\n",
              "      <td>...</td>\n",
              "      <td>...</td>\n",
              "      <td>...</td>\n",
              "    </tr>\n",
              "    <tr>\n",
              "      <th>28323</th>\n",
              "      <td>Aerie Hi-Neck Lace Trim Bralette</td>\n",
              "      <td>34.95 USD</td>\n",
              "      <td>20.97 USD</td>\n",
              "      <td>https://www.ae.com/aerie-hi-neck-lace-trim-bra...</td>\n",
              "      <td>AERIE</td>\n",
              "      <td>Bralettes</td>\n",
              "      <td>Ae US</td>\n",
              "      <td>¡Amor! New bralettes. Get bralette happy. This...</td>\n",
              "      <td>NaN</td>\n",
              "      <td>NaN</td>\n",
              "      <td>[\"Shine fabric + guipure lace trim\", \"Crop sil...</td>\n",
              "      <td>[\"XS\", \"S\", \"M\", \"L\", \"XL\"]</td>\n",
              "      <td>[\"XS\", \"S\", \"M\", \"L\"]</td>\n",
              "      <td>Deep Burgundy</td>\n",
              "    </tr>\n",
              "    <tr>\n",
              "      <th>28324</th>\n",
              "      <td>Aerie Hi-Neck Lace Trim Bralette</td>\n",
              "      <td>34.95 USD</td>\n",
              "      <td>20.97 USD</td>\n",
              "      <td>https://www.ae.com/aerie-hi-neck-lace-trim-bra...</td>\n",
              "      <td>AERIE</td>\n",
              "      <td>Bralettes</td>\n",
              "      <td>Ae US</td>\n",
              "      <td>¡Amor! New bralettes. Get bralette happy. This...</td>\n",
              "      <td>NaN</td>\n",
              "      <td>NaN</td>\n",
              "      <td>[\"Shine fabric + guipure lace trim\", \"Crop sil...</td>\n",
              "      <td>[\"XS\", \"S\", \"M\", \"L\", \"XL\"]</td>\n",
              "      <td>[\"XS\", \"S\", \"M\"]</td>\n",
              "      <td>Fresh Bright</td>\n",
              "    </tr>\n",
              "    <tr>\n",
              "      <th>28325</th>\n",
              "      <td>Aerie Hi-Neck Lace Trim Bralette</td>\n",
              "      <td>34.95 USD</td>\n",
              "      <td>20.97 USD</td>\n",
              "      <td>https://www.ae.com/aerie-hi-neck-lace-trim-bra...</td>\n",
              "      <td>AERIE</td>\n",
              "      <td>Bralettes</td>\n",
              "      <td>Ae US</td>\n",
              "      <td>¡Amor! New bralettes. Get bralette happy. This...</td>\n",
              "      <td>NaN</td>\n",
              "      <td>NaN</td>\n",
              "      <td>[\"Shine fabric + guipure lace trim\", \"Crop sil...</td>\n",
              "      <td>[\"XS\", \"S\", \"M\", \"L\", \"XL\"]</td>\n",
              "      <td>[\"XS\", \"S\", \"M\"]</td>\n",
              "      <td>Slab Gray</td>\n",
              "    </tr>\n",
              "    <tr>\n",
              "      <th>28326</th>\n",
              "      <td>Aerie Hi-Neck Lace Trim Bralette</td>\n",
              "      <td>34.95 USD</td>\n",
              "      <td>20.97 USD</td>\n",
              "      <td>https://www.ae.com/aerie-hi-neck-lace-trim-bra...</td>\n",
              "      <td>AERIE</td>\n",
              "      <td>Bralettes</td>\n",
              "      <td>Ae US</td>\n",
              "      <td>¡Amor! New bralettes. Get bralette happy. This...</td>\n",
              "      <td>NaN</td>\n",
              "      <td>NaN</td>\n",
              "      <td>[\"Shine fabric + guipure lace trim\", \"Crop sil...</td>\n",
              "      <td>[\"XS\", \"S\", \"M\", \"L\", \"XL\"]</td>\n",
              "      <td>[\"XS\", \"S\", \"M\", \"L\", \"XL\"]</td>\n",
              "      <td>Softest Jade</td>\n",
              "    </tr>\n",
              "    <tr>\n",
              "      <th>28327</th>\n",
              "      <td>Aerie Hi-Neck Lace Trim Bralette</td>\n",
              "      <td>34.95 USD</td>\n",
              "      <td>20.97 USD</td>\n",
              "      <td>https://www.ae.com/aerie-hi-neck-lace-trim-bra...</td>\n",
              "      <td>AERIE</td>\n",
              "      <td>Bralettes</td>\n",
              "      <td>Ae US</td>\n",
              "      <td>¡Amor! New bralettes. Get bralette happy. This...</td>\n",
              "      <td>NaN</td>\n",
              "      <td>NaN</td>\n",
              "      <td>[\"Shine fabric + guipure lace trim\", \"Crop sil...</td>\n",
              "      <td>[\"XS\", \"S\", \"M\", \"L\", \"XL\"]</td>\n",
              "      <td>[\"XS\", \"S\", \"M\"]</td>\n",
              "      <td>True Black</td>\n",
              "    </tr>\n",
              "  </tbody>\n",
              "</table>\n",
              "<p>28328 rows × 14 columns</p>\n",
              "</div>\n",
              "    <div class=\"colab-df-buttons\">\n",
              "\n",
              "  <div class=\"colab-df-container\">\n",
              "    <button class=\"colab-df-convert\" onclick=\"convertToInteractive('df-ae35c75f-5a26-4618-84a2-a9908ed4c5fe')\"\n",
              "            title=\"Convert this dataframe to an interactive table.\"\n",
              "            style=\"display:none;\">\n",
              "\n",
              "  <svg xmlns=\"http://www.w3.org/2000/svg\" height=\"24px\" viewBox=\"0 -960 960 960\">\n",
              "    <path d=\"M120-120v-720h720v720H120Zm60-500h600v-160H180v160Zm220 220h160v-160H400v160Zm0 220h160v-160H400v160ZM180-400h160v-160H180v160Zm440 0h160v-160H620v160ZM180-180h160v-160H180v160Zm440 0h160v-160H620v160Z\"/>\n",
              "  </svg>\n",
              "    </button>\n",
              "\n",
              "  <style>\n",
              "    .colab-df-container {\n",
              "      display:flex;\n",
              "      gap: 12px;\n",
              "    }\n",
              "\n",
              "    .colab-df-convert {\n",
              "      background-color: #E8F0FE;\n",
              "      border: none;\n",
              "      border-radius: 50%;\n",
              "      cursor: pointer;\n",
              "      display: none;\n",
              "      fill: #1967D2;\n",
              "      height: 32px;\n",
              "      padding: 0 0 0 0;\n",
              "      width: 32px;\n",
              "    }\n",
              "\n",
              "    .colab-df-convert:hover {\n",
              "      background-color: #E2EBFA;\n",
              "      box-shadow: 0px 1px 2px rgba(60, 64, 67, 0.3), 0px 1px 3px 1px rgba(60, 64, 67, 0.15);\n",
              "      fill: #174EA6;\n",
              "    }\n",
              "\n",
              "    .colab-df-buttons div {\n",
              "      margin-bottom: 4px;\n",
              "    }\n",
              "\n",
              "    [theme=dark] .colab-df-convert {\n",
              "      background-color: #3B4455;\n",
              "      fill: #D2E3FC;\n",
              "    }\n",
              "\n",
              "    [theme=dark] .colab-df-convert:hover {\n",
              "      background-color: #434B5C;\n",
              "      box-shadow: 0px 1px 3px 1px rgba(0, 0, 0, 0.15);\n",
              "      filter: drop-shadow(0px 1px 2px rgba(0, 0, 0, 0.3));\n",
              "      fill: #FFFFFF;\n",
              "    }\n",
              "  </style>\n",
              "\n",
              "    <script>\n",
              "      const buttonEl =\n",
              "        document.querySelector('#df-ae35c75f-5a26-4618-84a2-a9908ed4c5fe button.colab-df-convert');\n",
              "      buttonEl.style.display =\n",
              "        google.colab.kernel.accessAllowed ? 'block' : 'none';\n",
              "\n",
              "      async function convertToInteractive(key) {\n",
              "        const element = document.querySelector('#df-ae35c75f-5a26-4618-84a2-a9908ed4c5fe');\n",
              "        const dataTable =\n",
              "          await google.colab.kernel.invokeFunction('convertToInteractive',\n",
              "                                                    [key], {});\n",
              "        if (!dataTable) return;\n",
              "\n",
              "        const docLinkHtml = 'Like what you see? Visit the ' +\n",
              "          '<a target=\"_blank\" href=https://colab.research.google.com/notebooks/data_table.ipynb>data table notebook</a>'\n",
              "          + ' to learn more about interactive tables.';\n",
              "        element.innerHTML = '';\n",
              "        dataTable['output_type'] = 'display_data';\n",
              "        await google.colab.output.renderOutput(dataTable, element);\n",
              "        const docLink = document.createElement('div');\n",
              "        docLink.innerHTML = docLinkHtml;\n",
              "        element.appendChild(docLink);\n",
              "      }\n",
              "    </script>\n",
              "  </div>\n",
              "\n",
              "\n",
              "<div id=\"df-0aaf9935-e678-4193-a73e-0322b882e5fd\">\n",
              "  <button class=\"colab-df-quickchart\" onclick=\"quickchart('df-0aaf9935-e678-4193-a73e-0322b882e5fd')\"\n",
              "            title=\"Suggest charts\"\n",
              "            style=\"display:none;\">\n",
              "\n",
              "<svg xmlns=\"http://www.w3.org/2000/svg\" height=\"24px\"viewBox=\"0 0 24 24\"\n",
              "     width=\"24px\">\n",
              "    <g>\n",
              "        <path d=\"M19 3H5c-1.1 0-2 .9-2 2v14c0 1.1.9 2 2 2h14c1.1 0 2-.9 2-2V5c0-1.1-.9-2-2-2zM9 17H7v-7h2v7zm4 0h-2V7h2v10zm4 0h-2v-4h2v4z\"/>\n",
              "    </g>\n",
              "</svg>\n",
              "  </button>\n",
              "\n",
              "<style>\n",
              "  .colab-df-quickchart {\n",
              "      --bg-color: #E8F0FE;\n",
              "      --fill-color: #1967D2;\n",
              "      --hover-bg-color: #E2EBFA;\n",
              "      --hover-fill-color: #174EA6;\n",
              "      --disabled-fill-color: #AAA;\n",
              "      --disabled-bg-color: #DDD;\n",
              "  }\n",
              "\n",
              "  [theme=dark] .colab-df-quickchart {\n",
              "      --bg-color: #3B4455;\n",
              "      --fill-color: #D2E3FC;\n",
              "      --hover-bg-color: #434B5C;\n",
              "      --hover-fill-color: #FFFFFF;\n",
              "      --disabled-bg-color: #3B4455;\n",
              "      --disabled-fill-color: #666;\n",
              "  }\n",
              "\n",
              "  .colab-df-quickchart {\n",
              "    background-color: var(--bg-color);\n",
              "    border: none;\n",
              "    border-radius: 50%;\n",
              "    cursor: pointer;\n",
              "    display: none;\n",
              "    fill: var(--fill-color);\n",
              "    height: 32px;\n",
              "    padding: 0;\n",
              "    width: 32px;\n",
              "  }\n",
              "\n",
              "  .colab-df-quickchart:hover {\n",
              "    background-color: var(--hover-bg-color);\n",
              "    box-shadow: 0 1px 2px rgba(60, 64, 67, 0.3), 0 1px 3px 1px rgba(60, 64, 67, 0.15);\n",
              "    fill: var(--button-hover-fill-color);\n",
              "  }\n",
              "\n",
              "  .colab-df-quickchart-complete:disabled,\n",
              "  .colab-df-quickchart-complete:disabled:hover {\n",
              "    background-color: var(--disabled-bg-color);\n",
              "    fill: var(--disabled-fill-color);\n",
              "    box-shadow: none;\n",
              "  }\n",
              "\n",
              "  .colab-df-spinner {\n",
              "    border: 2px solid var(--fill-color);\n",
              "    border-color: transparent;\n",
              "    border-bottom-color: var(--fill-color);\n",
              "    animation:\n",
              "      spin 1s steps(1) infinite;\n",
              "  }\n",
              "\n",
              "  @keyframes spin {\n",
              "    0% {\n",
              "      border-color: transparent;\n",
              "      border-bottom-color: var(--fill-color);\n",
              "      border-left-color: var(--fill-color);\n",
              "    }\n",
              "    20% {\n",
              "      border-color: transparent;\n",
              "      border-left-color: var(--fill-color);\n",
              "      border-top-color: var(--fill-color);\n",
              "    }\n",
              "    30% {\n",
              "      border-color: transparent;\n",
              "      border-left-color: var(--fill-color);\n",
              "      border-top-color: var(--fill-color);\n",
              "      border-right-color: var(--fill-color);\n",
              "    }\n",
              "    40% {\n",
              "      border-color: transparent;\n",
              "      border-right-color: var(--fill-color);\n",
              "      border-top-color: var(--fill-color);\n",
              "    }\n",
              "    60% {\n",
              "      border-color: transparent;\n",
              "      border-right-color: var(--fill-color);\n",
              "    }\n",
              "    80% {\n",
              "      border-color: transparent;\n",
              "      border-right-color: var(--fill-color);\n",
              "      border-bottom-color: var(--fill-color);\n",
              "    }\n",
              "    90% {\n",
              "      border-color: transparent;\n",
              "      border-bottom-color: var(--fill-color);\n",
              "    }\n",
              "  }\n",
              "</style>\n",
              "\n",
              "  <script>\n",
              "    async function quickchart(key) {\n",
              "      const quickchartButtonEl =\n",
              "        document.querySelector('#' + key + ' button');\n",
              "      quickchartButtonEl.disabled = true;  // To prevent multiple clicks.\n",
              "      quickchartButtonEl.classList.add('colab-df-spinner');\n",
              "      try {\n",
              "        const charts = await google.colab.kernel.invokeFunction(\n",
              "            'suggestCharts', [key], {});\n",
              "      } catch (error) {\n",
              "        console.error('Error during call to suggestCharts:', error);\n",
              "      }\n",
              "      quickchartButtonEl.classList.remove('colab-df-spinner');\n",
              "      quickchartButtonEl.classList.add('colab-df-quickchart-complete');\n",
              "    }\n",
              "    (() => {\n",
              "      let quickchartButtonEl =\n",
              "        document.querySelector('#df-0aaf9935-e678-4193-a73e-0322b882e5fd button');\n",
              "      quickchartButtonEl.style.display =\n",
              "        google.colab.kernel.accessAllowed ? 'block' : 'none';\n",
              "    })();\n",
              "  </script>\n",
              "</div>\n",
              "\n",
              "    </div>\n",
              "  </div>\n"
            ],
            "application/vnd.google.colaboratory.intrinsic+json": {
              "type": "dataframe",
              "summary": "{\n  \"name\": \"datasets[\\\"ae_com\\\"]\",\n  \"rows\": 28328,\n  \"fields\": [\n    {\n      \"column\": \"product_name\",\n      \"properties\": {\n        \"dtype\": \"category\",\n        \"num_unique_values\": 106,\n        \"samples\": [\n          \"Sunnie Demi Lightly Lined Bra + Heathered Strap\",\n          \"Aerie Logo Boybrief\",\n          \"Aerie Shine Bikini + Boho Lace\"\n        ],\n        \"semantic_type\": \"\",\n        \"description\": \"\"\n      }\n    },\n    {\n      \"column\": \"mrp\",\n      \"properties\": {\n        \"dtype\": \"category\",\n        \"num_unique_values\": 21,\n        \"samples\": [\n          \"12.50 USD\",\n          \"15.50 USD\",\n          \"72.99 USD\"\n        ],\n        \"semantic_type\": \"\",\n        \"description\": \"\"\n      }\n    },\n    {\n      \"column\": \"price\",\n      \"properties\": {\n        \"dtype\": \"category\",\n        \"num_unique_values\": 42,\n        \"samples\": [\n          \"17.47 USD\",\n          \"24.46 USD\",\n          \"27.96 USD\"\n        ],\n        \"semantic_type\": \"\",\n        \"description\": \"\"\n      }\n    },\n    {\n      \"column\": \"pdp_url\",\n      \"properties\": {\n        \"dtype\": \"category\",\n        \"num_unique_values\": 1921,\n        \"samples\": [\n          \"https://www.ae.com/aerie-seamless-boybrief-slab-gray/aerie/s-prod/1774_5447_933?cm=sDE-cEUR&catId=cat4850016\",\n          \"https://www.ae.com/aerie-bridget-longline-pushup-bra-buff/aerie/s-prod/9732_4662_184?cm=sDE-cEUR&catId=cat4130013\",\n          \"https://www.ae.com/bras-aerie-tomgirl-logo-bralette-dark-heather/aerie/s-prod/1692_2259_030?cm=sDE-cEUR&catId=cat8120158\"\n        ],\n        \"semantic_type\": \"\",\n        \"description\": \"\"\n      }\n    },\n    {\n      \"column\": \"brand_name\",\n      \"properties\": {\n        \"dtype\": \"category\",\n        \"num_unique_values\": 2,\n        \"samples\": [\n          \"AEO\",\n          \"AERIE\"\n        ],\n        \"semantic_type\": \"\",\n        \"description\": \"\"\n      }\n    },\n    {\n      \"column\": \"product_category\",\n      \"properties\": {\n        \"dtype\": \"category\",\n        \"num_unique_values\": 49,\n        \"samples\": [\n          \"Triangle\",\n          \"Bras\"\n        ],\n        \"semantic_type\": \"\",\n        \"description\": \"\"\n      }\n    },\n    {\n      \"column\": \"retailer\",\n      \"properties\": {\n        \"dtype\": \"category\",\n        \"num_unique_values\": 1,\n        \"samples\": [\n          \"Ae US\"\n        ],\n        \"semantic_type\": \"\",\n        \"description\": \"\"\n      }\n    },\n    {\n      \"column\": \"description\",\n      \"properties\": {\n        \"dtype\": \"category\",\n        \"num_unique_values\": 876,\n        \"samples\": [\n          \"Hello, Happy Bras. Happiness is feeling like the real you. Welcome to your happy place. style: 2792-7830 | color: 073 Happiness from the inside out: light mesh interior Underwire support Adjustable straps Back hook closure Classic coverage 97% Nylon, 3% Elastane Hand Wash Imported read more read less\"\n        ],\n        \"semantic_type\": \"\",\n        \"description\": \"\"\n      }\n    },\n    {\n      \"column\": \"rating\",\n      \"properties\": {\n        \"dtype\": \"number\",\n        \"std\": 0.7366721190190143,\n        \"min\": 1.0,\n        \"max\": 5.0,\n        \"num_unique_values\": 32,\n        \"samples\": [\n          2.3\n        ],\n        \"semantic_type\": \"\",\n        \"description\": \"\"\n      }\n    },\n    {\n      \"column\": \"review_count\",\n      \"properties\": {\n        \"dtype\": \"number\",\n        \"std\": 15.736077262779228,\n        \"min\": 1.0,\n        \"max\": 92.0,\n        \"num_unique_values\": 21,\n        \"samples\": [\n          8.0\n        ],\n        \"semantic_type\": \"\",\n        \"description\": \"\"\n      }\n    },\n    {\n      \"column\": \"style_attributes\",\n      \"properties\": {\n        \"dtype\": \"category\",\n        \"num_unique_values\": 257,\n        \"samples\": [\n          \"[\\\"Pushup level: Perkier\\\", \\\"Demi coverage, Underwire\\\", \\\"Fully adjustable straps\\\", \\\"Ballet back\\\", \\\"Back hook closure\\\", \\\"Real Soft\\u00ae fabric\\\", \\\"360 degree stretch moves with you\\\", \\\"If you loved Jacklyn or Emma, you'll ADORE Sunnie Pushup\\\", \\\"If you like Harper or Ella Gel, you\\u2019ll LOVE Sunnie Pushup\\\", \\\"64% Polyamide, 36% Elastane\\\", \\\"Hand Wash\\\", \\\"Imported\\\"]\"\n        ],\n        \"semantic_type\": \"\",\n        \"description\": \"\"\n      }\n    },\n    {\n      \"column\": \"total_sizes\",\n      \"properties\": {\n        \"dtype\": \"category\",\n        \"num_unique_values\": 19,\n        \"samples\": [\n          \"[\\\"XS\\\", \\\"S\\\", \\\"M\\\", \\\"L\\\", \\\"XL\\\", \\\"XXL\\\"]\"\n        ],\n        \"semantic_type\": \"\",\n        \"description\": \"\"\n      }\n    },\n    {\n      \"column\": \"available_size\",\n      \"properties\": {\n        \"dtype\": \"category\",\n        \"num_unique_values\": 435,\n        \"samples\": [\n          \"[\\\"S\\\"]\"\n        ],\n        \"semantic_type\": \"\",\n        \"description\": \"\"\n      }\n    },\n    {\n      \"column\": \"color\",\n      \"properties\": {\n        \"dtype\": \"category\",\n        \"num_unique_values\": 92,\n        \"samples\": [\n          \"Red Cord\"\n        ],\n        \"semantic_type\": \"\",\n        \"description\": \"\"\n      }\n    }\n  ]\n}"
            }
          },
          "metadata": {},
          "execution_count": 17
        }
      ],
      "source": [
        "datasets[\"ae_com\"]"
      ]
    },
    {
      "cell_type": "code",
      "execution_count": 18,
      "metadata": {
        "vscode": {
          "languageId": "plaintext"
        },
        "id": "3TSwUJgJMwYN",
        "outputId": "bcc7d749-6dd3-433f-a46a-39c97225fcc8",
        "colab": {
          "base_uri": "https://localhost:8080/"
        }
      },
      "outputs": [
        {
          "output_type": "execute_result",
          "data": {
            "text/plain": [
              "dict_keys(['ae_com', 'amazon_com', 'btemptd_com', 'calvinklein_com', 'hankypanky_com', 'macys_com', 'shop_nordstrom_com', 'us_topshop_com', 'victoriassecret_com'])"
            ]
          },
          "metadata": {},
          "execution_count": 18
        }
      ],
      "source": [
        "datasets.keys()"
      ]
    },
    {
      "cell_type": "markdown",
      "metadata": {
        "id": "9DB2_s47MwYN"
      },
      "source": [
        "## The different datasets on their own\n"
      ]
    },
    {
      "cell_type": "code",
      "execution_count": null,
      "metadata": {
        "vscode": {
          "languageId": "plaintext"
        },
        "id": "Hf7jU9xCMwYN"
      },
      "outputs": [],
      "source": [
        "datasets[\"ae_com\"].head()"
      ]
    },
    {
      "cell_type": "code",
      "execution_count": null,
      "metadata": {
        "vscode": {
          "languageId": "plaintext"
        },
        "id": "MpjV_G2wMwYN"
      },
      "outputs": [],
      "source": [
        "datasets[\"amazon_com\"].head()"
      ]
    },
    {
      "cell_type": "code",
      "execution_count": null,
      "metadata": {
        "vscode": {
          "languageId": "plaintext"
        },
        "id": "9twG6VBjMwYN"
      },
      "outputs": [],
      "source": [
        "### Joining all the datasets into one"
      ]
    },
    {
      "cell_type": "code",
      "execution_count": null,
      "metadata": {
        "vscode": {
          "languageId": "plaintext"
        },
        "id": "MCd6VYFcMwYN"
      },
      "outputs": [],
      "source": [
        "df = pd.concat(datasets.values()).reset_index()"
      ]
    },
    {
      "cell_type": "markdown",
      "metadata": {
        "id": "usQYN0t-MwYN"
      },
      "source": [
        "# Calculating statistics on the dataset"
      ]
    },
    {
      "cell_type": "markdown",
      "metadata": {
        "id": "BAx4VJ9GMwYO"
      },
      "source": [
        "## Unifying Victoria's Secret"
      ]
    },
    {
      "cell_type": "code",
      "execution_count": null,
      "metadata": {
        "vscode": {
          "languageId": "plaintext"
        },
        "id": "pWrguVhTMwYO"
      },
      "outputs": [],
      "source": [
        "def unify_victoria_secret(df):\n",
        "    \"\"\"\n",
        "    We want that all brands that are related to Victoria's Secret\n",
        "    have `victoria's secret` as their brand instead of what they\n",
        "    currently have.\n",
        "    \"\"\"\n",
        "    df = df.copy()\n",
        "    new_string = \"victoria's secret\"\n",
        "    # Write your code here\n"
      ]
    },
    {
      "cell_type": "code",
      "execution_count": null,
      "metadata": {
        "vscode": {
          "languageId": "plaintext"
        },
        "id": "imzqHsNOMwYO"
      },
      "outputs": [],
      "source": [
        "df_unified = unify_victoria_secret(df)"
      ]
    },
    {
      "cell_type": "code",
      "execution_count": null,
      "metadata": {
        "vscode": {
          "languageId": "plaintext"
        },
        "id": "r4IUrCgZMwYO"
      },
      "outputs": [],
      "source": [
        "answer_victoria_secret = df_unified[df_unified[\"brand_name\"] == \"victoria's secret\"].shape[0]\n",
        "print(answer_victoria_secret)"
      ]
    },
    {
      "cell_type": "markdown",
      "metadata": {
        "id": "LGKo6EHwMwYO"
      },
      "source": [
        "## Cleaning up the price\n",
        "\n",
        "In this sectino we are going to transform the `price` column into a float column in USD dolars.\n",
        "\n",
        "For this, be careful of the different formats in the data.\n",
        "\n",
        "For simplicity, you might assume that all the prices are in USD dolars, regarding of the symbol of the currency used."
      ]
    },
    {
      "cell_type": "code",
      "execution_count": null,
      "metadata": {
        "vscode": {
          "languageId": "plaintext"
        },
        "id": "OPjpc-lxMwYO"
      },
      "outputs": [],
      "source": [
        "def clean_price(df):\n",
        "    \"\"\"\n",
        "    In this function we will transform the\n",
        "    `price` column into a column of floats.\n",
        "    In case a product has more than one price,\n",
        "    return the lowest one.\n",
        "    \"\"\"\n",
        "\n",
        "    # Write your code here\n",
        "\n"
      ]
    },
    {
      "cell_type": "code",
      "execution_count": null,
      "metadata": {
        "vscode": {
          "languageId": "plaintext"
        },
        "id": "Q_HDjouMMwYO"
      },
      "outputs": [],
      "source": [
        "df_clean = clean_price(df_unified)"
      ]
    },
    {
      "cell_type": "code",
      "execution_count": null,
      "metadata": {
        "vscode": {
          "languageId": "plaintext"
        },
        "id": "VkJM24RSMwYO"
      },
      "outputs": [],
      "source": [
        "answer_unified_price_sum = df_clean[\"price\"].sum()\n",
        "print(answer_unified_price_sum)"
      ]
    },
    {
      "cell_type": "code",
      "execution_count": null,
      "metadata": {
        "vscode": {
          "languageId": "plaintext"
        },
        "id": "T0Vb7-uNMwYO"
      },
      "outputs": [],
      "source": [
        "def low_high_product_mean(df):\n",
        "    \"\"\"\n",
        "    Finally, we will calculate `product_category` with the lowest and highest mean price\n",
        "    for the brand Victoria's Secret.\n",
        "    \"\"\"\n",
        "\n",
        "    # Write your code here"
      ]
    },
    {
      "cell_type": "code",
      "execution_count": null,
      "metadata": {
        "vscode": {
          "languageId": "plaintext"
        },
        "id": "01wzNR-CMwYO"
      },
      "outputs": [],
      "source": [
        "lowest_mean, highest_mean = low_high_product_mean(df_clean)\n",
        "assert np.allclose(lowest_mean, 3.6203030303030)\n",
        "print(\"highest_mean\", highest_mean)"
      ]
    }
  ],
  "metadata": {
    "language_info": {
      "name": "python"
    },
    "colab": {
      "provenance": []
    },
    "kernelspec": {
      "name": "python3",
      "display_name": "Python 3"
    }
  },
  "nbformat": 4,
  "nbformat_minor": 0
}