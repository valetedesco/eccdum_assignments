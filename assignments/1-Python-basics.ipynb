{
  "cells": [
    {
      "cell_type": "markdown",
      "metadata": {
        "id": "4kgrhiY3t4mS"
      },
      "source": [
        "# Notebook Overview\n",
        "\n",
        "In this notebook, you’ll explore essential Python concepts such as numbers, strings, lists, loops, and functions to strengthen your familiarity with them. Each exercise includes a description of the task, followed by a space where you will implement a solution.\n",
        "\n",
        "Once you’ve completed your implementation, the function will be automatically tested to ensure it works correctly. If successful, additional examples will be executed to further validate your solution."
      ]
    },
    {
      "cell_type": "markdown",
      "metadata": {
        "id": "NcWmutkMt4mV"
      },
      "source": [
        "## \t1.\tRemove Vowels Function:\n",
        "Implement a function that removes all vowels from a given string.\n",
        "Example: \"hello\" → \"hll\""
      ]
    },
    {
      "cell_type": "code",
      "execution_count": 15,
      "metadata": {
        "vscode": {
          "languageId": "plaintext"
        },
        "id": "49mQKMn1t4mV"
      },
      "outputs": [],
      "source": [
        "def remove_vowels (texto):\n",
        "    vocales = 'aAeEiIoOuU'\n",
        "    resultado = ''.join(letra for letra in texto if letra not in vocales)\n",
        "    return resultado"
      ]
    },
    {
      "cell_type": "code",
      "execution_count": 16,
      "metadata": {
        "vscode": {
          "languageId": "plaintext"
        },
        "colab": {
          "base_uri": "https://localhost:8080/"
        },
        "id": "JnP-HgOst4mW",
        "outputId": "5633a779-b89c-4d9e-bc85-333712ed8d74"
      },
      "outputs": [
        {
          "output_type": "stream",
          "name": "stdout",
          "text": [
            "st f n bn dí\n"
          ]
        }
      ],
      "source": [
        "assert remove_vowels(\"hola\") == \"hl\"\n",
        "answer_1  = remove_vowels(\"Este fue un buen día\")\n",
        "print(answer_1)"
      ]
    },
    {
      "cell_type": "markdown",
      "metadata": {
        "id": "JFJ0aa6at4mW"
      },
      "source": [
        "# 2.\tSum List of Floats Function:\n",
        "Write a function that computes the element-wise sum of two lists of floats.\n",
        "Example: [1, 2, 3] + [4, 5, -2.3] → [5, 7, 0.7]"
      ]
    },
    {
      "cell_type": "code",
      "execution_count": 17,
      "metadata": {
        "vscode": {
          "languageId": "plaintext"
        },
        "id": "Pwvazys2t4mW"
      },
      "outputs": [],
      "source": [
        "\n",
        "def sum_list_of_floats(a,b):\n",
        "    resultado = []\n",
        "    for i in range(len(a)):\n",
        "      resultado.append(a[i] + b[i])\n",
        "    return resultado\n",
        "\n"
      ]
    },
    {
      "cell_type": "code",
      "execution_count": 18,
      "metadata": {
        "vscode": {
          "languageId": "plaintext"
        },
        "colab": {
          "base_uri": "https://localhost:8080/"
        },
        "id": "z731Osbzt4mW",
        "outputId": "01e728e3-54af-47fd-dfcb-b235436ef999"
      },
      "outputs": [
        {
          "output_type": "stream",
          "name": "stdout",
          "text": [
            "[1, -1]\n"
          ]
        }
      ],
      "source": [
        "import numpy as np\n",
        "\n",
        "assert np.allclose(\n",
        "    sum_list_of_floats(\n",
        "        [1, 2, 3], [4, 5, -2.3]),\n",
        "    [5, 7, 0.7]\n",
        ")\n",
        "answer_2 = sum_list_of_floats([0, 0], [1, -1])\n",
        "print(answer_2)"
      ]
    }
  ],
  "metadata": {
    "language_info": {
      "name": "python"
    },
    "colab": {
      "provenance": []
    },
    "kernelspec": {
      "name": "python3",
      "display_name": "Python 3"
    }
  },
  "nbformat": 4,
  "nbformat_minor": 0
}